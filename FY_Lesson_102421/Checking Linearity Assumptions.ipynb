{
 "cells": [
  {
   "cell_type": "code",
   "execution_count": 2,
   "metadata": {},
   "outputs": [],
   "source": [
    "import pandas as pd\n",
    "import numpy as np\n",
    "import matplotlib.pyplot as plt \n",
    "import math\n",
    "import scipy.stats as stats\n",
    "import statistics"
   ]
  },
  {
   "cell_type": "code",
   "execution_count": 3,
   "metadata": {},
   "outputs": [
    {
     "data": {
      "text/html": [
       "<div>\n",
       "<style scoped>\n",
       "    .dataframe tbody tr th:only-of-type {\n",
       "        vertical-align: middle;\n",
       "    }\n",
       "\n",
       "    .dataframe tbody tr th {\n",
       "        vertical-align: top;\n",
       "    }\n",
       "\n",
       "    .dataframe thead th {\n",
       "        text-align: right;\n",
       "    }\n",
       "</style>\n",
       "<table border=\"1\" class=\"dataframe\">\n",
       "  <thead>\n",
       "    <tr style=\"text-align: right;\">\n",
       "      <th></th>\n",
       "      <th>claims</th>\n",
       "      <th>total_payment</th>\n",
       "    </tr>\n",
       "  </thead>\n",
       "  <tbody>\n",
       "    <tr>\n",
       "      <th>0</th>\n",
       "      <td>108</td>\n",
       "      <td>392.5</td>\n",
       "    </tr>\n",
       "    <tr>\n",
       "      <th>1</th>\n",
       "      <td>19</td>\n",
       "      <td>46.2</td>\n",
       "    </tr>\n",
       "    <tr>\n",
       "      <th>2</th>\n",
       "      <td>13</td>\n",
       "      <td>15.7</td>\n",
       "    </tr>\n",
       "    <tr>\n",
       "      <th>3</th>\n",
       "      <td>124</td>\n",
       "      <td>422.2</td>\n",
       "    </tr>\n",
       "    <tr>\n",
       "      <th>4</th>\n",
       "      <td>40</td>\n",
       "      <td>119.4</td>\n",
       "    </tr>\n",
       "  </tbody>\n",
       "</table>\n",
       "</div>"
      ],
      "text/plain": [
       "   claims  total_payment\n",
       "0     108          392.5\n",
       "1      19           46.2\n",
       "2      13           15.7\n",
       "3     124          422.2\n",
       "4      40          119.4"
      ]
     },
     "execution_count": 3,
     "metadata": {},
     "output_type": "execute_result"
    }
   ],
   "source": [
    "# read in data\n",
    "auto_claims = pd.read_csv('sweden_insurance.csv')\n",
    "auto_claims.head()"
   ]
  },
  {
   "cell_type": "code",
   "execution_count": 4,
   "metadata": {
    "scrolled": true
   },
   "outputs": [
    {
     "data": {
      "text/plain": [
       "Text(0, 0.5, 'Price per Area Unit')"
      ]
     },
     "execution_count": 4,
     "metadata": {},
     "output_type": "execute_result"
    },
    {
     "data": {
      "image/png": "[encoded data removed]",
      "text/plain": [
       "<Figure size 432x288 with 1 Axes>"
      ]
     },
     "metadata": {
      "needs_background": "light"
     },
     "output_type": "display_data"
    }
   ],
   "source": [
    "# lets make a graphing of just the points\n",
    "X = auto_claims['claims']\n",
    "y = auto_claims['total_payment']\n",
    "\n",
    "plt.scatter(X, y)\n",
    "plt.title('Scatterplot of Distance ~ Price')\n",
    "plt.xlabel('Distance from MRT')\n",
    "plt.ylabel('Price per Area Unit')"
   ]
  },
  {
   "cell_type": "code",
   "execution_count": 9,
   "metadata": {},
   "outputs": [
    {
     "data": {
      "text/plain": [
       "Text(0, 0.5, 'Price per Area Unit')"
      ]
     },
     "execution_count": 9,
     "metadata": {},
     "output_type": "execute_result"
    },
    {
     "data": {
      "image/png": "[encoded data removed]",
      "text/plain": [
       "<Figure size 432x288 with 1 Axes>"
      ]
     },
     "metadata": {
      "needs_background": "light"
     },
     "output_type": "display_data"
    }
   ],
   "source": [
    "# now lets add a line that fits the data\n",
    "m, b = np. polyfit(X, y, 1)\n",
    "plt.scatter(X, y)\n",
    "plt.plot(X, m*X + b, color = 'red', alpha = 0.5)\n",
    "\n",
    "plt.title('Scatterplot of Distance ~ Price (W/ OLS)')\n",
    "plt.xlabel('Distance from MRT')\n",
    "plt.ylabel('Price per Area Unit')"
   ]
  },
  {
   "cell_type": "code",
   "execution_count": 11,
   "metadata": {},
   "outputs": [
    {
     "data": {
      "text/plain": [
       "(2.1624937123923194, 0.019408207593609034)"
      ]
     },
     "execution_count": 11,
     "metadata": {},
     "output_type": "execute_result"
    }
   ],
   "source": [
    "# now we are going to create an OLS regression and feed this regression into LR\n",
    "from statsmodels.regression.linear_model import OLS\n",
    "from statsmodels.tools.tools import add_constant\n",
    "import statsmodels.stats.diagnostic as stats_test\n",
    "\n",
    "X = auto_claims['claims']\n",
    "y = auto_claims['total_payment']\n",
    "X = add_constant(X)\n",
    "regression = OLS(y, X).fit()\n",
    "stats_test.linear_rainbow(regression)"
   ]
  },
  {
   "cell_type": "code",
   "execution_count": 17,
   "metadata": {},
   "outputs": [
    {
     "data": {
      "text/plain": [
       "(0.9128782350234067, 2.046637844952289e-25)"
      ]
     },
     "execution_count": 17,
     "metadata": {},
     "output_type": "execute_result"
    }
   ],
   "source": [
    "# creating a Pearson Correlation Coefficient \n",
    "from scipy.stats import pearsonr\n",
    "X = auto_claims['claims']\n",
    "y = auto_claims['total_payment']\n",
    "pearsonr(X, y)"
   ]
  },
  {
   "cell_type": "code",
   "execution_count": 26,
   "metadata": {},
   "outputs": [
    {
     "data": {
      "text/plain": [
       "const     1.977584\n",
       "claims    1.000000\n",
       "dtype: float64"
      ]
     },
     "execution_count": 26,
     "metadata": {},
     "output_type": "execute_result"
    }
   ],
   "source": [
    "# lets find VIF\n",
    "from statsmodels.stats.outliers_influence import variance_inflation_factor\n",
    "X = add_constant(X)\n",
    "pd.Series([variance_inflation_factor(X.values, i) \n",
    "                for i in range(X.shape[1])], \n",
    "                index = X.columns)"
   ]
  },
  {
   "cell_type": "code",
   "execution_count": 27,
   "metadata": {},
   "outputs": [
    {
     "data": {
      "text/plain": [
       "1.1993321891675772"
      ]
     },
     "execution_count": 27,
     "metadata": {},
     "output_type": "execute_result"
    }
   ],
   "source": [
    "# durbin-watson test\n",
    "from statsmodels.stats.stattools import durbin_watson\n",
    "X = auto_claims['claims']\n",
    "y = auto_claims['total_payment']\n",
    "X = add_constant(X)\n",
    "regression = OLS(y, X).fit()\n",
    "\n",
    "durbin_watson(regression.resid)"
   ]
  },
  {
   "cell_type": "code",
   "execution_count": 34,
   "metadata": {},
   "outputs": [
    {
     "name": "stdout",
     "output_type": "stream",
     "text": [
      "[ 1.00000000e+00  1.08402854e-01  1.52044962e-01  3.84696053e-01\n",
      "  1.02327585e-02  2.50748661e-01 -7.47346170e-03 -9.20852359e-02\n",
      "  2.04201246e-01 -7.86984108e-02 -9.02635004e-02  3.36267211e-02\n",
      " -1.11878182e-01 -5.06022217e-02 -8.94110500e-02 -1.47650919e-01\n",
      "  6.85065645e-03 -7.69118196e-02 -1.20127703e-01 -3.47713924e-02\n",
      " -9.13778563e-03 -6.53382122e-02 -1.46711949e-01 -8.75782480e-02\n",
      " -7.47249590e-02 -3.28955320e-02 -1.38589056e-01 -1.52662603e-01\n",
      " -9.76528572e-04 -1.46746222e-01 -1.04730879e-01  5.37988772e-02\n",
      " -7.69454213e-02  8.36251853e-02 -3.80120454e-02 -1.16197041e-01\n",
      "  1.40163976e-01  1.13295423e-02  6.35209703e-02  8.19841344e-02\n",
      "  4.00302268e-02]\n"
     ]
    },
    {
     "data": {
      "image/png": "[encoded data removed]",
      "text/plain": [
       "<Figure size 432x288 with 1 Axes>"
      ]
     },
     "execution_count": 34,
     "metadata": {},
     "output_type": "execute_result"
    },
    {
     "data": {
      "image/png": "[encoded data removed]",
      "text/plain": [
       "<Figure size 432x288 with 1 Axes>"
      ]
     },
     "metadata": {
      "needs_background": "light"
     },
     "output_type": "display_data"
    }
   ],
   "source": [
    "# acf test\n",
    "from statsmodels.tsa.stattools import acf\n",
    "X = auto_claims['claims']\n",
    "y = auto_claims['total_payment']\n",
    "print(acf(X))\n",
    "\n",
    "import statsmodels.api as sm\n",
    "sm.graphics.tsa.plot_acf(X, lags = 40)"
   ]
  },
  {
   "cell_type": "code",
   "execution_count": 40,
   "metadata": {},
   "outputs": [
    {
     "data": {
      "text/plain": [
       "Text(0, 0.5, 'Residuals')"
      ]
     },
     "execution_count": 40,
     "metadata": {},
     "output_type": "execute_result"
    },
    {
     "data": {
      "image/png": "[encoded data removed]",
      "text/plain": [
       "<Figure size 432x288 with 1 Axes>"
      ]
     },
     "metadata": {
      "needs_background": "light"
     },
     "output_type": "display_data"
    }
   ],
   "source": [
    "# residual homoskedasticity plot\n",
    "X = auto_claims['claims']\n",
    "y = auto_claims['total_payment']\n",
    "X = add_constant(X)\n",
    "regression = OLS(y, X).fit()\n",
    "\n",
    "plt.scatter(X['claims'], regression.resid)\n",
    "plt.axhline(y = 0, color = 'red', linestyle = '-')\n",
    "plt.title('Scatterplot of Residuals ~ Claims (W/ OLS)')\n",
    "plt.xlabel('Claims')\n",
    "plt.ylabel('Residuals')"
   ]
  },
  {
   "cell_type": "code",
   "execution_count": null,
   "metadata": {},
   "outputs": [],
   "source": []
  }
 ],
 "metadata": {
  "kernelspec": {
   "display_name": "Python 3",
   "language": "python",
   "name": "python3"
  },
  "language_info": {
   "codemirror_mode": {
    "name": "ipython",
    "version": 3
   },
   "file_extension": ".py",
   "mimetype": "text/x-python",
   "name": "python",
   "nbconvert_exporter": "python",
   "pygments_lexer": "ipython3",
   "version": "3.8.8"
  }
 },
 "nbformat": 4,
 "nbformat_minor": 2
}
