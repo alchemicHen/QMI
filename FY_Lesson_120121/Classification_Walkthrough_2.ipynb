{
 "cells": [
  {
   "cell_type": "code",
   "execution_count": 1,
   "metadata": {},
   "outputs": [],
   "source": [
    "import pandas as pd\n",
    "import numpy as np\n",
    "from sklearn.model_selection import cross_val_score\n",
    "import statistics\n",
    "from sklearn.neural_network import MLPClassifier\n",
    "from sklearn.neighbors import KNeighborsClassifier\n",
    "from sklearn.svm import SVC\n",
    "from sklearn.gaussian_process import GaussianProcessClassifier\n",
    "from sklearn.gaussian_process.kernels import RBF\n",
    "from sklearn.tree import DecisionTreeClassifier\n",
    "from sklearn.ensemble import RandomForestClassifier, AdaBoostClassifier\n",
    "from sklearn.naive_bayes import GaussianNB\n",
    "from sklearn.discriminant_analysis import QuadraticDiscriminantAnalysis\n",
    "from sklearn.ensemble import RandomForestClassifier, VotingClassifier\n",
    "from sklearn.ensemble import StackingClassifier\n",
    "from sklearn.linear_model import LogisticRegression\n",
    "from sklearn.model_selection import train_test_split\n",
    "from sklearn.model_selection import GridSearchCV"
   ]
  },
  {
   "cell_type": "code",
   "execution_count": 2,
   "metadata": {},
   "outputs": [],
   "source": [
    "abalone_data = pd.read_csv('abalone.csv')\n",
    "abalone_data = abalone_data[abalone_data['Type'].isin(['M', 'F'])].reset_index().drop(columns = ['index'])\n",
    "X = abalone_data.iloc[:, 1:-1]\n",
    "y = abalone_data.iloc[:, 0]"
   ]
  },
  {
   "cell_type": "code",
   "execution_count": 3,
   "metadata": {},
   "outputs": [],
   "source": [
    "all_models = [\n",
    "    \"Nearest Neighbors\",\n",
    "    \"Linear SVM\",\n",
    "    \"RBF SVM\",\n",
    "    \"Gaussian Process\",\n",
    "    \"Decision Tree\",\n",
    "    \"Random Forest\",\n",
    "    \"Neural Net\",\n",
    "    \"AdaBoost\",\n",
    "    \"Naive Bayes\",\n",
    "    \"QDA\"]\n",
    "\n",
    "all_classifiers = [KNeighborsClassifier(n_neighbors = 3, weights = 'uniform'),\n",
    "                SVC(kernel = \"linear\", C = 0.025),\n",
    "                SVC(gamma = 2, C = 1),\n",
    "                GaussianProcessClassifier(1.0 * RBF(1.0)),\n",
    "                DecisionTreeClassifier(max_depth = 5),\n",
    "                RandomForestClassifier(max_depth = 5, n_estimators = 10, max_features = 1),\n",
    "                MLPClassifier(alpha = 1, max_iter = 1000),\n",
    "                AdaBoostClassifier(),\n",
    "                GaussianNB(),\n",
    "                QuadraticDiscriminantAnalysis()]\n",
    "\n",
    "\n",
    "cv_classifiers = pd.DataFrame(columns = ['Model', 'CV_1', 'CV_2', 'CV_3', 'CV_4', 'CV_5', 'AVG_CV'])\n",
    "for i, model in enumerate(all_classifiers):\n",
    "    cv_scores = cross_val_score(model, X, y, cv = 5)\n",
    "    to_append = {\n",
    "        'Model': all_models[i],\n",
    "        'CV_1': cv_scores[0],\n",
    "        'CV_2': cv_scores[1],\n",
    "        'CV_3': cv_scores[2],\n",
    "        'CV_4': cv_scores[3],\n",
    "        'CV_5': cv_scores[4],\n",
    "        'AVG_CV': statistics.mean(cv_scores)}\n",
    "    cv_classifiers = cv_classifiers.append(to_append, ignore_index = True)"
   ]
  },
  {
   "cell_type": "code",
   "execution_count": 4,
   "metadata": {},
   "outputs": [
    {
     "data": {
      "text/html": [
       "<div>\n",
       "<style scoped>\n",
       "    .dataframe tbody tr th:only-of-type {\n",
       "        vertical-align: middle;\n",
       "    }\n",
       "\n",
       "    .dataframe tbody tr th {\n",
       "        vertical-align: top;\n",
       "    }\n",
       "\n",
       "    .dataframe thead th {\n",
       "        text-align: right;\n",
       "    }\n",
       "</style>\n",
       "<table border=\"1\" class=\"dataframe\">\n",
       "  <thead>\n",
       "    <tr style=\"text-align: right;\">\n",
       "      <th></th>\n",
       "      <th>Model</th>\n",
       "      <th>CV_1</th>\n",
       "      <th>CV_2</th>\n",
       "      <th>CV_3</th>\n",
       "      <th>CV_4</th>\n",
       "      <th>CV_5</th>\n",
       "      <th>AVG_CV</th>\n",
       "    </tr>\n",
       "  </thead>\n",
       "  <tbody>\n",
       "    <tr>\n",
       "      <th>0</th>\n",
       "      <td>Nearest Neighbors</td>\n",
       "      <td>0.562610</td>\n",
       "      <td>0.499118</td>\n",
       "      <td>0.541446</td>\n",
       "      <td>0.488536</td>\n",
       "      <td>0.566138</td>\n",
       "      <td>0.531570</td>\n",
       "    </tr>\n",
       "    <tr>\n",
       "      <th>1</th>\n",
       "      <td>Linear SVM</td>\n",
       "      <td>0.539683</td>\n",
       "      <td>0.539683</td>\n",
       "      <td>0.539683</td>\n",
       "      <td>0.537919</td>\n",
       "      <td>0.537919</td>\n",
       "      <td>0.538977</td>\n",
       "    </tr>\n",
       "    <tr>\n",
       "      <th>2</th>\n",
       "      <td>RBF SVM</td>\n",
       "      <td>0.548501</td>\n",
       "      <td>0.550265</td>\n",
       "      <td>0.555556</td>\n",
       "      <td>0.550265</td>\n",
       "      <td>0.557319</td>\n",
       "      <td>0.552381</td>\n",
       "    </tr>\n",
       "    <tr>\n",
       "      <th>3</th>\n",
       "      <td>Gaussian Process</td>\n",
       "      <td>0.543210</td>\n",
       "      <td>0.550265</td>\n",
       "      <td>0.520282</td>\n",
       "      <td>0.557319</td>\n",
       "      <td>0.571429</td>\n",
       "      <td>0.548501</td>\n",
       "    </tr>\n",
       "    <tr>\n",
       "      <th>4</th>\n",
       "      <td>Decision Tree</td>\n",
       "      <td>0.559083</td>\n",
       "      <td>0.564374</td>\n",
       "      <td>0.514991</td>\n",
       "      <td>0.518519</td>\n",
       "      <td>0.564374</td>\n",
       "      <td>0.544268</td>\n",
       "    </tr>\n",
       "    <tr>\n",
       "      <th>5</th>\n",
       "      <td>Random Forest</td>\n",
       "      <td>0.536155</td>\n",
       "      <td>0.548501</td>\n",
       "      <td>0.527337</td>\n",
       "      <td>0.502646</td>\n",
       "      <td>0.559083</td>\n",
       "      <td>0.534744</td>\n",
       "    </tr>\n",
       "    <tr>\n",
       "      <th>6</th>\n",
       "      <td>Neural Net</td>\n",
       "      <td>0.541446</td>\n",
       "      <td>0.544974</td>\n",
       "      <td>0.546737</td>\n",
       "      <td>0.537919</td>\n",
       "      <td>0.525573</td>\n",
       "      <td>0.539330</td>\n",
       "    </tr>\n",
       "    <tr>\n",
       "      <th>7</th>\n",
       "      <td>AdaBoost</td>\n",
       "      <td>0.520282</td>\n",
       "      <td>0.530864</td>\n",
       "      <td>0.546737</td>\n",
       "      <td>0.543210</td>\n",
       "      <td>0.576720</td>\n",
       "      <td>0.543563</td>\n",
       "    </tr>\n",
       "    <tr>\n",
       "      <th>8</th>\n",
       "      <td>Naive Bayes</td>\n",
       "      <td>0.546737</td>\n",
       "      <td>0.500882</td>\n",
       "      <td>0.516755</td>\n",
       "      <td>0.514991</td>\n",
       "      <td>0.536155</td>\n",
       "      <td>0.523104</td>\n",
       "    </tr>\n",
       "    <tr>\n",
       "      <th>9</th>\n",
       "      <td>QDA</td>\n",
       "      <td>0.529101</td>\n",
       "      <td>0.537919</td>\n",
       "      <td>0.520282</td>\n",
       "      <td>0.534392</td>\n",
       "      <td>0.532628</td>\n",
       "      <td>0.530864</td>\n",
       "    </tr>\n",
       "  </tbody>\n",
       "</table>\n",
       "</div>"
      ],
      "text/plain": [
       "               Model      CV_1      CV_2      CV_3      CV_4      CV_5  \\\n",
       "0  Nearest Neighbors  0.562610  0.499118  0.541446  0.488536  0.566138   \n",
       "1         Linear SVM  0.539683  0.539683  0.539683  0.537919  0.537919   \n",
       "2            RBF SVM  0.548501  0.550265  0.555556  0.550265  0.557319   \n",
       "3   Gaussian Process  0.543210  0.550265  0.520282  0.557319  0.571429   \n",
       "4      Decision Tree  0.559083  0.564374  0.514991  0.518519  0.564374   \n",
       "5      Random Forest  0.536155  0.548501  0.527337  0.502646  0.559083   \n",
       "6         Neural Net  0.541446  0.544974  0.546737  0.537919  0.525573   \n",
       "7           AdaBoost  0.520282  0.530864  0.546737  0.543210  0.576720   \n",
       "8        Naive Bayes  0.546737  0.500882  0.516755  0.514991  0.536155   \n",
       "9                QDA  0.529101  0.537919  0.520282  0.534392  0.532628   \n",
       "\n",
       "     AVG_CV  \n",
       "0  0.531570  \n",
       "1  0.538977  \n",
       "2  0.552381  \n",
       "3  0.548501  \n",
       "4  0.544268  \n",
       "5  0.534744  \n",
       "6  0.539330  \n",
       "7  0.543563  \n",
       "8  0.523104  \n",
       "9  0.530864  "
      ]
     },
     "execution_count": 4,
     "metadata": {},
     "output_type": "execute_result"
    }
   ],
   "source": [
    "cv_classifiers"
   ]
  },
  {
   "cell_type": "code",
   "execution_count": 5,
   "metadata": {},
   "outputs": [],
   "source": [
    "stdevs = []\n",
    "for row in cv_classifiers.iterrows():\n",
    "    cvs = []\n",
    "    for i in range(1, 6):\n",
    "        cvs.append(row[1]['CV_' + str(i)])\n",
    "    var = statistics.variance(cvs)\n",
    "    stdevs.append(var**2)\n",
    "cv_classifiers['STDeviation'] = stdevs"
   ]
  },
  {
   "cell_type": "code",
   "execution_count": 7,
   "metadata": {},
   "outputs": [
    {
     "data": {
      "text/plain": [
       "0.5314285714285715"
      ]
     },
     "execution_count": 7,
     "metadata": {},
     "output_type": "execute_result"
    }
   ],
   "source": [
    "np.quantile(cv_classifiers['AVG_CV'], 0.20)"
   ]
  },
  {
   "cell_type": "code",
   "execution_count": 8,
   "metadata": {
    "scrolled": true
   },
   "outputs": [
    {
     "name": "stdout",
     "output_type": "stream",
     "text": [
      "Indices to pull: [1, 2, 3, 4, 5, 6, 7]\n",
      "[('Linear SVM', SVC(C=0.025, kernel='linear')), ('RBF SVM', SVC(C=1, gamma=2)), ('Gaussian Process', GaussianProcessClassifier(kernel=1**2 * RBF(length_scale=1))), ('Decision Tree', DecisionTreeClassifier(max_depth=5)), ('Random Forest', RandomForestClassifier(max_depth=5, max_features=1, n_estimators=10)), ('Neural Net', MLPClassifier(alpha=1, max_iter=1000)), ('AdaBoost', AdaBoostClassifier())]\n"
     ]
    }
   ],
   "source": [
    "pull_models = np.quantile(cv_classifiers['AVG_CV'], 0.25)\n",
    "best_model_indices = [i for i, row in enumerate(cv_classifiers.iterrows()) if row[1]['AVG_CV'] > pull_models]\n",
    "print('Indices to pull: ' + str(best_model_indices))\n",
    "\n",
    "use_models = []\n",
    "for index in best_model_indices: \n",
    "    model = all_classifiers[index]\n",
    "    name = all_models[index]\n",
    "    \n",
    "    to_append = (name, model)\n",
    "    use_models.append(to_append)\n",
    "print(use_models)"
   ]
  },
  {
   "cell_type": "code",
   "execution_count": 11,
   "metadata": {},
   "outputs": [
    {
     "name": "stdout",
     "output_type": "stream",
     "text": [
      "Voting classifier accuracy: 0.532\n"
     ]
    }
   ],
   "source": [
    "X_train, X_test, y_train, y_test = train_test_split(X, y, test_size = 0.25)\n",
    "\n",
    "vote_classifier = VotingClassifier(estimators = use_models, \n",
    "                                   voting = 'hard')\n",
    "full_model = vote_classifier.fit(X_train, y_train)\n",
    "accuracy = round(full_model.score(X_test, y_test), 3)\n",
    "\n",
    "print('Voting classifier accuracy: ' + str(accuracy))"
   ]
  },
  {
   "cell_type": "code",
   "execution_count": 12,
   "metadata": {},
   "outputs": [
    {
     "name": "stdout",
     "output_type": "stream",
     "text": [
      "Stacked classifier accuracy: 0.544\n"
     ]
    }
   ],
   "source": [
    "stacked_classifier = StackingClassifier(estimators = use_models, \n",
    "                                        final_estimator = LogisticRegression())\n",
    "full_model2 = stacked_classifier.fit(X_train, y_train)\n",
    "accuracy = round(full_model2.score(X_test, y_test), 3)\n",
    "\n",
    "print('Stacked classifier accuracy: ' + str(accuracy))"
   ]
  },
  {
   "cell_type": "code",
   "execution_count": 13,
   "metadata": {
    "scrolled": true
   },
   "outputs": [
    {
     "name": "stdout",
     "output_type": "stream",
     "text": [
      "Best model is: RBF SVM\n"
     ]
    },
    {
     "data": {
      "text/plain": [
       "GridSearchCV(estimator=SVC(),\n",
       "             param_grid={'C': [1, 10], 'gamma': ('scale', 'auto'),\n",
       "                         'kernel': ('linear', 'poly', 'rbf', 'sigmoid',\n",
       "                                    'precomputed')})"
      ]
     },
     "execution_count": 13,
     "metadata": {},
     "output_type": "execute_result"
    }
   ],
   "source": [
    "selected_model = cv_classifiers[cv_classifiers['AVG_CV'] == max(cv_classifiers['AVG_CV'])]\n",
    "model_index = selected_model.index[0]\n",
    "model_name = all_models[model_index]\n",
    "print('Best model is: ' + str(model_name))\n",
    "\n",
    "\n",
    "model = SVC()\n",
    "parameters = {'kernel':('linear', 'poly', 'rbf', 'sigmoid', 'precomputed'), \n",
    "              'C':[1, 10], \n",
    "              'gamma': ('scale', 'auto')}\n",
    "GridSearchCV(model, parameters)"
   ]
  },
  {
   "cell_type": "code",
   "execution_count": 105,
   "metadata": {},
   "outputs": [
    {
     "data": {
      "text/plain": [
       "2"
      ]
     },
     "execution_count": 105,
     "metadata": {},
     "output_type": "execute_result"
    }
   ],
   "source": []
  },
  {
   "cell_type": "code",
   "execution_count": null,
   "metadata": {},
   "outputs": [],
   "source": []
  }
 ],
 "metadata": {
  "kernelspec": {
   "display_name": "Python 3",
   "language": "python",
   "name": "python3"
  },
  "language_info": {
   "codemirror_mode": {
    "name": "ipython",
    "version": 3
   },
   "file_extension": ".py",
   "mimetype": "text/x-python",
   "name": "python",
   "nbconvert_exporter": "python",
   "pygments_lexer": "ipython3",
   "version": "3.8.8"
  }
 },
 "nbformat": 4,
 "nbformat_minor": 2
}
