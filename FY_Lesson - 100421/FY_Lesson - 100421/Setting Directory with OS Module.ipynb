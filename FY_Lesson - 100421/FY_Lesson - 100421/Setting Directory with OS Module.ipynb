{
 "cells": [
  {
   "cell_type": "markdown",
   "metadata": {},
   "source": [
    "# Setting Directory with OS Module"
   ]
  },
  {
   "cell_type": "markdown",
   "metadata": {},
   "source": [
    "## Introduction\n",
    "At a basic level your directory is where your are \"sitting\" in your computer. If you go to your Desktop through Finder or File Explorer you are in your \"Desktop\" directory. Most likely you have subdirectories inside of your Desktop such as a folder for classes etc. When using Jupyter Notebook and most other IDEs (code editting programs) your code is going to have access just to your currenct directory. For example, lets download some financial data for the month of June 2021 in New Zealand. "
   ]
  },
  {
   "cell_type": "code",
   "execution_count": 2,
   "metadata": {},
   "outputs": [
    {
     "data": {
      "text/html": [
       "<div>\n",
       "<style scoped>\n",
       "    .dataframe tbody tr th:only-of-type {\n",
       "        vertical-align: middle;\n",
       "    }\n",
       "\n",
       "    .dataframe tbody tr th {\n",
       "        vertical-align: top;\n",
       "    }\n",
       "\n",
       "    .dataframe thead th {\n",
       "        text-align: right;\n",
       "    }\n",
       "</style>\n",
       "<table border=\"1\" class=\"dataframe\">\n",
       "  <thead>\n",
       "    <tr style=\"text-align: right;\">\n",
       "      <th></th>\n",
       "      <th>Series_reference</th>\n",
       "      <th>Period</th>\n",
       "      <th>Data_value</th>\n",
       "      <th>Suppressed</th>\n",
       "      <th>STATUS</th>\n",
       "      <th>UNITS</th>\n",
       "      <th>Magnitude</th>\n",
       "      <th>Subject</th>\n",
       "      <th>Group</th>\n",
       "      <th>Series_title_1</th>\n",
       "      <th>Series_title_2</th>\n",
       "      <th>Series_title_3</th>\n",
       "      <th>Series_title_4</th>\n",
       "      <th>Series_title_5</th>\n",
       "    </tr>\n",
       "  </thead>\n",
       "  <tbody>\n",
       "    <tr>\n",
       "      <th>0</th>\n",
       "      <td>BDCQ.SEA1AA</td>\n",
       "      <td>2011.06</td>\n",
       "      <td>80078.0</td>\n",
       "      <td>NaN</td>\n",
       "      <td>F</td>\n",
       "      <td>Number</td>\n",
       "      <td>0</td>\n",
       "      <td>Business Data Collection - BDC</td>\n",
       "      <td>Industry by employment variable</td>\n",
       "      <td>Filled jobs</td>\n",
       "      <td>Agriculture, Forestry and Fishing</td>\n",
       "      <td>Actual</td>\n",
       "      <td>NaN</td>\n",
       "      <td>NaN</td>\n",
       "    </tr>\n",
       "    <tr>\n",
       "      <th>1</th>\n",
       "      <td>BDCQ.SEA1AA</td>\n",
       "      <td>2011.09</td>\n",
       "      <td>78324.0</td>\n",
       "      <td>NaN</td>\n",
       "      <td>F</td>\n",
       "      <td>Number</td>\n",
       "      <td>0</td>\n",
       "      <td>Business Data Collection - BDC</td>\n",
       "      <td>Industry by employment variable</td>\n",
       "      <td>Filled jobs</td>\n",
       "      <td>Agriculture, Forestry and Fishing</td>\n",
       "      <td>Actual</td>\n",
       "      <td>NaN</td>\n",
       "      <td>NaN</td>\n",
       "    </tr>\n",
       "    <tr>\n",
       "      <th>2</th>\n",
       "      <td>BDCQ.SEA1AA</td>\n",
       "      <td>2011.12</td>\n",
       "      <td>85850.0</td>\n",
       "      <td>NaN</td>\n",
       "      <td>F</td>\n",
       "      <td>Number</td>\n",
       "      <td>0</td>\n",
       "      <td>Business Data Collection - BDC</td>\n",
       "      <td>Industry by employment variable</td>\n",
       "      <td>Filled jobs</td>\n",
       "      <td>Agriculture, Forestry and Fishing</td>\n",
       "      <td>Actual</td>\n",
       "      <td>NaN</td>\n",
       "      <td>NaN</td>\n",
       "    </tr>\n",
       "    <tr>\n",
       "      <th>3</th>\n",
       "      <td>BDCQ.SEA1AA</td>\n",
       "      <td>2012.03</td>\n",
       "      <td>90743.0</td>\n",
       "      <td>NaN</td>\n",
       "      <td>F</td>\n",
       "      <td>Number</td>\n",
       "      <td>0</td>\n",
       "      <td>Business Data Collection - BDC</td>\n",
       "      <td>Industry by employment variable</td>\n",
       "      <td>Filled jobs</td>\n",
       "      <td>Agriculture, Forestry and Fishing</td>\n",
       "      <td>Actual</td>\n",
       "      <td>NaN</td>\n",
       "      <td>NaN</td>\n",
       "    </tr>\n",
       "    <tr>\n",
       "      <th>4</th>\n",
       "      <td>BDCQ.SEA1AA</td>\n",
       "      <td>2012.06</td>\n",
       "      <td>81780.0</td>\n",
       "      <td>NaN</td>\n",
       "      <td>F</td>\n",
       "      <td>Number</td>\n",
       "      <td>0</td>\n",
       "      <td>Business Data Collection - BDC</td>\n",
       "      <td>Industry by employment variable</td>\n",
       "      <td>Filled jobs</td>\n",
       "      <td>Agriculture, Forestry and Fishing</td>\n",
       "      <td>Actual</td>\n",
       "      <td>NaN</td>\n",
       "      <td>NaN</td>\n",
       "    </tr>\n",
       "  </tbody>\n",
       "</table>\n",
       "</div>"
      ],
      "text/plain": [
       "  Series_reference   Period  Data_value Suppressed STATUS   UNITS  Magnitude  \\\n",
       "0      BDCQ.SEA1AA  2011.06     80078.0        NaN      F  Number          0   \n",
       "1      BDCQ.SEA1AA  2011.09     78324.0        NaN      F  Number          0   \n",
       "2      BDCQ.SEA1AA  2011.12     85850.0        NaN      F  Number          0   \n",
       "3      BDCQ.SEA1AA  2012.03     90743.0        NaN      F  Number          0   \n",
       "4      BDCQ.SEA1AA  2012.06     81780.0        NaN      F  Number          0   \n",
       "\n",
       "                          Subject                            Group  \\\n",
       "0  Business Data Collection - BDC  Industry by employment variable   \n",
       "1  Business Data Collection - BDC  Industry by employment variable   \n",
       "2  Business Data Collection - BDC  Industry by employment variable   \n",
       "3  Business Data Collection - BDC  Industry by employment variable   \n",
       "4  Business Data Collection - BDC  Industry by employment variable   \n",
       "\n",
       "  Series_title_1                     Series_title_2 Series_title_3  \\\n",
       "0    Filled jobs  Agriculture, Forestry and Fishing         Actual   \n",
       "1    Filled jobs  Agriculture, Forestry and Fishing         Actual   \n",
       "2    Filled jobs  Agriculture, Forestry and Fishing         Actual   \n",
       "3    Filled jobs  Agriculture, Forestry and Fishing         Actual   \n",
       "4    Filled jobs  Agriculture, Forestry and Fishing         Actual   \n",
       "\n",
       "   Series_title_4  Series_title_5  \n",
       "0             NaN             NaN  \n",
       "1             NaN             NaN  \n",
       "2             NaN             NaN  \n",
       "3             NaN             NaN  \n",
       "4             NaN             NaN  "
      ]
     },
     "execution_count": 2,
     "metadata": {},
     "output_type": "execute_result"
    }
   ],
   "source": [
    "### NEW CODE ###\n",
    "import pandas as pd\n",
    "import os\n",
    "dataset = pd.read_csv('june_employment_data.csv')\n",
    "dataset.head()"
   ]
  },
  {
   "cell_type": "markdown",
   "metadata": {},
   "source": [
    "As shown above our operating system had no issue pulling the CSV from the directory because the CSV \"june_employment_data.csv\" is in the same directory that we currently are. Trouble starts to occur when you try and get a file that is either above or below your current directory. One \"simple\" but inefficient fix is to copy files into your current directory, but this is messy and also leads to inconsistency (e.g. imagine a file that is routinely updated you now have to copy it over every single time it is updated). \n",
    "\n",
    "For our purposes especially we will be sharing data. The datasets that we create and find will be changing over time and to remain consistent accross your team's analysis you need to have consistent access to the same data. This is where the OS Module comes into use. It allows your to artificially set a directory for your code to access."
   ]
  },
  {
   "cell_type": "markdown",
   "metadata": {},
   "source": [
    "## Getting Started with OS \n",
    "We already import the OS Module in the above code block. Now lets start by getting your current directory to see where you are \"sitting\" in your computer. This is good to save before changing your existing directory so that you can easily revert back. "
   ]
  },
  {
   "cell_type": "code",
   "execution_count": 3,
   "metadata": {},
   "outputs": [
    {
     "name": "stdout",
     "output_type": "stream",
     "text": [
      "C:\\Users\\micha\\2021-22 Dev\\QMI\\FY_Lesson - 100421\\FY_Lesson - 100421\n"
     ]
    }
   ],
   "source": [
    "### NEW CODE ###\n",
    "cwd = os.getcwd()   # note: cwd stands for \"current working directory\"\n",
    "print(str(cwd))"
   ]
  },
  {
   "cell_type": "markdown",
   "metadata": {},
   "source": [
    "As we mentioned earlier we want to be able to quickly access shared directories that sit on your laptop so that you can easily work on teams and share data. Later this week we are going to have you install Dropbox on your computer so that you can easily access shared folders with your team and get datasets/code for lectures and your project groups. Lets start by looking again at my currency directory. "
   ]
  },
  {
   "cell_type": "code",
   "execution_count": null,
   "metadata": {},
   "outputs": [],
   "source": [
    "cwd = os.getcwd()   \n",
    "print(str(cwd))"
   ]
  },
  {
   "cell_type": "markdown",
   "metadata": {},
   "source": [
    "Here we can see that I am in my own \"user\" branch of the operating system within Dropbox in the QMI folder. Although these files are not stored on my computer I can still accesss them and save them from my local system. This is a powerful addition to your coding reach in QMI, and in general. Lets now try changing the current directory. "
   ]
  },
  {
   "cell_type": "code",
   "execution_count": null,
   "metadata": {},
   "outputs": [],
   "source": [
    "### NEW CODE ###\n",
    "base_directory = '/Users/alexandernelson-groocock'\n",
    "second_segment = '/Desktop'\n",
    "os.chdir(base_directory + second_segment)\n",
    "\n",
    "os.getcwd()  # now lets check to make sure that the directory was actually changed"
   ]
  },
  {
   "cell_type": "markdown",
   "metadata": {},
   "source": [
    "As seen above we have changed the current working directory to Desktop and our code will continue to \"exist\" within this directory until your tell your code to move. This means that you can access the files within this directory, and subsequent subdirectories. This allows you to easily share code and data with other members of your team assuming that you accessing Dropbox. Another function that is powerful is the division of work. In research it was always my job to divide up large manual input or coding assignments among the other research assistants and this allows you to generalize your code to every member of team because everyone will have generally the same path to get to Dropbox (and once in Dropbox you can be 100% sure that the path is the same). This reduced confusion and errors. \n",
    "\n",
    "Now we want to change back to the original directory that we had access to. This highlights the importance of saving your original working directory in as a variable before changing your directory. If you look at the above code this is the \"cwd\" variable in our case. Now lets change it back. "
   ]
  },
  {
   "cell_type": "code",
   "execution_count": null,
   "metadata": {},
   "outputs": [],
   "source": [
    "### NEW CODE ###\n",
    "os.chdir(cwd)\n",
    "os.getcwd()  # and now verify the change is complete"
   ]
  },
  {
   "cell_type": "code",
   "execution_count": 1,
   "metadata": {},
   "outputs": [],
   "source": [
    "## Next Steps"
   ]
  },
  {
   "cell_type": "code",
   "execution_count": null,
   "metadata": {},
   "outputs": [],
   "source": [
    "1. If you do not already have a Dropbox connected to your preferred email account set that up. \n",
    "2. Download the Dropbox extension for your laptop and put it as a subdirectory to \"Users\"\n",
    "3. Slack me the email that you used for the Dropbox Account and I can share the folder with you. \n",
    "4. This will allow you to set your working directory "
   ]
  },
  {
   "cell_type": "code",
   "execution_count": null,
   "metadata": {},
   "outputs": [],
   "source": []
  }
 ],
 "metadata": {
  "kernelspec": {
   "display_name": "Python 3",
   "language": "python",
   "name": "python3"
  },
  "language_info": {
   "codemirror_mode": {
    "name": "ipython",
    "version": 3
   },
   "file_extension": ".py",
   "mimetype": "text/x-python",
   "name": "python",
   "nbconvert_exporter": "python",
   "pygments_lexer": "ipython3",
   "version": "3.8.8"
  }
 },
 "nbformat": 4,
 "nbformat_minor": 2
}
